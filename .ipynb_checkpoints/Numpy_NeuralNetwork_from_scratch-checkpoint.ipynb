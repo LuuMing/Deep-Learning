{
 "cells": [
  {
   "cell_type": "code",
   "execution_count": 18,
   "metadata": {
    "collapsed": true
   },
   "outputs": [],
   "source": [
    "from numpy import exp,array,random,dot"
   ]
  },
  {
   "cell_type": "code",
   "execution_count": 19,
   "metadata": {},
   "outputs": [],
   "source": [
    "class NeuralNetwork():\n",
    "    def __init__(self):\n",
    "        random.seed(1)\n",
    "        self.synaptic_weights = 2 * random.random([3,1])-1\n",
    "    def __sigmoid(self,x):\n",
    "        return 1 / (1+exp(-x))\n",
    "    def __sigmoid_derivative(self,x):\n",
    "        return x * (1-x)\n",
    "    def train(self,training_set_inputs,training_set_outputs,number_of_training_iterations):\n",
    "        for iteration in range(number_of_training_iterations):\n",
    "            output = self.predict(training_set_inputs)\n",
    "            \n",
    "            error = training_set_outputs - output\n",
    "            \n",
    "            adjustment = dot(training_set_inputs.T, error * self.__sigmoid_derivative(output))\n",
    "            \n",
    "            self.synaptic_weights += adjustment\n",
    "    def predict(self,inputs):\n",
    "        return self.__sigmoid(dot(inputs,self.synaptic_weights))"
   ]
  },
  {
   "cell_type": "code",
   "execution_count": 22,
   "metadata": {},
   "outputs": [
    {
     "name": "stdout",
     "output_type": "stream",
     "text": [
      "Random starting synaptic weights\n",
      "[[-0.16595599]\n",
      " [ 0.44064899]\n",
      " [-0.99977125]]\n",
      "New synaptic  weights after training:\n",
      "[[ 9.67299303]\n",
      " [-0.2078435 ]\n",
      " [-4.62963669]]\n",
      "Considering new situation [1,0,0]->?:\n",
      "[ 0.99993704]\n"
     ]
    }
   ],
   "source": [
    "if __name__ == '__main__':\n",
    "    neural_network = NeuralNetwork()\n",
    "    print(\"Random starting synaptic weights\")\n",
    "    print(neural_network.synaptic_weights)\n",
    "    #The training set. We have 4 examples, each consisting of 3 input values and 1 \n",
    "    #output value\n",
    "    training_set_inputs = array([[0,0,1],[1,1,1],[1,0,1],[0,1,1]])\n",
    "    training_set_outputs = array([[0,1,1,0]]).T\n",
    "    #train the neural network using a training set\n",
    "    #Do it 100000 times  and make small adjustments each time\n",
    "    neural_network.train(training_set_inputs,training_set_outputs,10000)\n",
    "    \n",
    "    print('New synaptic  weights after training:')\n",
    "    print(neural_network.synaptic_weights)\n",
    "    #Test the neural network with a new situation\n",
    "    print('Considering new situation [1,0,0]->?:')\n",
    "    print(neural_network.predict(array([1,0,0])))"
   ]
  }
 ],
 "metadata": {
  "kernelspec": {
   "display_name": "Python 3",
   "language": "python",
   "name": "python3"
  },
  "language_info": {
   "codemirror_mode": {
    "name": "ipython",
    "version": 3
   },
   "file_extension": ".py",
   "mimetype": "text/x-python",
   "name": "python",
   "nbconvert_exporter": "python",
   "pygments_lexer": "ipython3",
   "version": "3.6.1"
  }
 },
 "nbformat": 4,
 "nbformat_minor": 2
}
