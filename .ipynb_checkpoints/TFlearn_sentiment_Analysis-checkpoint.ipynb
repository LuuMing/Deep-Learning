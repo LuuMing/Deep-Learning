{
 "cells": [
  {
   "cell_type": "code",
   "execution_count": 26,
   "metadata": {},
   "outputs": [],
   "source": [
    "import tflearn\n",
    "from tflearn.data_utils import to_categorical, pad_sequences\n",
    "from tflearn.datasets import imdb\n",
    "import numpy as np"
   ]
  },
  {
   "cell_type": "code",
   "execution_count": 19,
   "metadata": {},
   "outputs": [],
   "source": [
    "train , test, _ = imdb.load_data(path='imdb.pkl',n_words=10000,valid_portion=0.1)\n",
    "trainX,trainY = train\n",
    "testX,testY = test"
   ]
  },
  {
   "cell_type": "code",
   "execution_count": 20,
   "metadata": {},
   "outputs": [],
   "source": [
    "#Sequene padding\n",
    "trainX = pad_sequences(trainX,maxlen=100,value=0.)\n",
    "testX = pad_sequences(testX,maxlen=100,value=0.)\n",
    "#converting labels to binary vectors\n",
    "trainY = to_categorical(trainY,nb_classes=2)\n",
    "testY = to_categorical(testY,nb_classes=2)\n"
   ]
  },
  {
   "cell_type": "code",
   "execution_count": 21,
   "metadata": {
    "collapsed": true
   },
   "outputs": [],
   "source": [
    "\n",
    "#Network building\n",
    "net= tflearn.input_data([None,100])\n",
    "net = tflearn.embedding(net,input_dim=10000,output_dim=128)\n",
    "net = tflearn.lstm(net,128,dropout=0.8)\n",
    "net = tflearn.fully_connected(net,2,activation='softmax')\n",
    "net = tflearn.regression(net,optimizer='adam',learning_rate=0.0001,loss='categorical_crossentropy')\n"
   ]
  },
  {
   "cell_type": "code",
   "execution_count": 24,
   "metadata": {},
   "outputs": [
    {
     "name": "stdout",
     "output_type": "stream",
     "text": [
      "Training Step: 7039  | time: 296.153s\n",
      "| Adam | epoch: 010 | loss: 0.00000 - acc: 0.9369 -- iter: 22496/22500\n",
      "Training Step: 7040  | time: 307.551s\n",
      "| Adam | epoch: 010 | loss: 0.00000 - acc: 0.9401 | val_loss: 0.57450 - val_acc: 0.8112 -- iter: 22500/22500\n",
      "--\n"
     ]
    }
   ],
   "source": [
    "model = tflearn.DNN(net,tensorboard_verbose=0)\n",
    "model.fit(trainX,trainY,validation_set = (testX,testY),show_metric= True,batch_size = 32)"
   ]
  }
 ],
 "metadata": {
  "kernelspec": {
   "display_name": "Python 3",
   "language": "python",
   "name": "python3"
  },
  "language_info": {
   "codemirror_mode": {
    "name": "ipython",
    "version": 3
   },
   "file_extension": ".py",
   "mimetype": "text/x-python",
   "name": "python",
   "nbconvert_exporter": "python",
   "pygments_lexer": "ipython3",
   "version": "3.6.1"
  }
 },
 "nbformat": 4,
 "nbformat_minor": 2
}
