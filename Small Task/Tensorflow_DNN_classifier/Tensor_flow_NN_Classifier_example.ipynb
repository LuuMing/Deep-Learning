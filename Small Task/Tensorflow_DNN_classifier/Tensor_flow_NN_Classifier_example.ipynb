{
 "cells": [
  {
   "cell_type": "code",
   "execution_count": 1,
   "metadata": {
    "collapsed": true
   },
   "outputs": [],
   "source": [
    "from __future__ import absolute_import\n",
    "from __future__ import division\n",
    "from __future__ import print_function\n",
    "\n",
    "import os\n",
    "import urllib\n",
    "\n",
    "import numpy as np\n",
    "import tensorflow as tf\n",
    "\n",
    "# Data sets\n",
    "IRIS_TRAINING = \"iris_training.csv\"\n",
    "IRIS_TRAINING_URL = \"http://download.tensorflow.org/data/iris_training.csv\"\n",
    "\n",
    "IRIS_TEST = \"iris_test.csv\"\n",
    "IRIS_TEST_URL = \"http://download.tensorflow.org/data/iris_test.csv\"\n",
    "\n",
    "\n",
    "\n"
   ]
  },
  {
   "cell_type": "code",
   "execution_count": 19,
   "metadata": {
    "collapsed": true
   },
   "outputs": [],
   "source": [
    "def main():\n",
    "    if not os.path.exists(IRIS_TRAINING):\n",
    "        raw = urllib.urlopwn(IRIS_TEST_URL).read()\n",
    "        with open(IRIS_TRAINING,'w') as f:\n",
    "            f.write(raw)\n",
    "    if not os.path.exists(IRIS_TEST):\n",
    "        raw = urllib.urlopen(IRIS_TEST_URL).read()\n",
    "        with open(IRIS_TEST,'w') as f:\n",
    "            f.write(raw)"
   ]
  },
  {
   "cell_type": "code",
   "execution_count": 4,
   "metadata": {
    "collapsed": true
   },
   "outputs": [],
   "source": [
    "training_set = tf.contrib.learn.datasets.base.load_csv_with_header(\n",
    "    filename = IRIS_TRAINING,\n",
    "    target_dtype = np.int,\n",
    "    features_dtype = np.float32)\n",
    "test_set = tf.contrib.learn.datasets.base.load_csv_with_header(\n",
    "    filename = IRIS_TEST,\n",
    "    target_dtype = np.int,\n",
    "    features_dtype = np.float32\n",
    ")"
   ]
  },
  {
   "cell_type": "code",
   "execution_count": 30,
   "metadata": {
    "collapsed": true
   },
   "outputs": [],
   "source": [
    "# Specify that all features have real-value data\n",
    "feature_columns = [tf.feature_column.numeric_column('x',shape = [4])]"
   ]
  },
  {
   "cell_type": "code",
   "execution_count": 35,
   "metadata": {},
   "outputs": [
    {
     "name": "stdout",
     "output_type": "stream",
     "text": [
      "INFO:tensorflow:Using default config.\n",
      "INFO:tensorflow:Using config: {'_task_type': None, '_task_id': 0, '_cluster_spec': <tensorflow.python.training.server_lib.ClusterSpec object at 0x0000013E266B7A90>, '_master': '', '_num_ps_replicas': 0, '_num_worker_replicas': 0, '_environment': 'local', '_is_chief': True, '_evaluation_master': '', '_tf_config': gpu_options {\n",
      "  per_process_gpu_memory_fraction: 1\n",
      "}\n",
      ", '_tf_random_seed': None, '_save_summary_steps': 100, '_save_checkpoints_secs': 600, '_session_config': None, '_save_checkpoints_steps': None, '_keep_checkpoint_max': 5, '_keep_checkpoint_every_n_hours': 10000, '_model_dir': '/tem/iris_model'}\n"
     ]
    }
   ],
   "source": [
    "# Build 3 layer DNN with 10, 20, 10 units respectively.\n",
    "classifier = tf.contrib.learn.DNNClassifier(\n",
    "    feature_columns = feature_columns,\n",
    "    hidden_units = [10,10,10],\n",
    "    n_classes = 3,\n",
    "    model_dir='/tem/iris_model'\n",
    ")"
   ]
  },
  {
   "cell_type": "code",
   "execution_count": 37,
   "metadata": {
    "collapsed": true
   },
   "outputs": [],
   "source": [
    "# Define the training inputs\n",
    "train_input_fn = tf.estimator.inputs.numpy_input_fn(\n",
    "    x={'x':np.array(training_set.data)},\n",
    "    y = np.array(training_set.target),\n",
    "    num_epochs = None,\n",
    "    shuffle = True\n",
    ")"
   ]
  },
  {
   "cell_type": "code",
   "execution_count": 39,
   "metadata": {},
   "outputs": [
    {
     "name": "stdout",
     "output_type": "stream",
     "text": [
      "WARNING:tensorflow:From E:\\Users\\LuMing\\Anaconda3\\lib\\site-packages\\tensorflow\\contrib\\learn\\python\\learn\\estimators\\head.py:625: scalar_summary (from tensorflow.python.ops.logging_ops) is deprecated and will be removed after 2016-11-30.\n",
      "Instructions for updating:\n",
      "Please switch to tf.summary.scalar. Note that tf.summary.scalar uses the node name instead of the tag. This means that TensorFlow will automatically de-duplicate summary names based on the scope they are created in. Also, passing a tensor or list of tags to a scalar summary op is no longer supported.\n",
      "INFO:tensorflow:Create CheckpointSaverHook.\n",
      "INFO:tensorflow:Saving checkpoints for 1 into /tem/iris_model\\model.ckpt.\n",
      "INFO:tensorflow:loss = 1.79454, step = 1\n",
      "INFO:tensorflow:global_step/sec: 441.184\n",
      "INFO:tensorflow:loss = 0.197041, step = 101 (0.236 sec)\n",
      "INFO:tensorflow:global_step/sec: 394.197\n",
      "INFO:tensorflow:loss = 0.115047, step = 201 (0.249 sec)\n",
      "INFO:tensorflow:global_step/sec: 455.255\n",
      "INFO:tensorflow:loss = 0.0748508, step = 301 (0.236 sec)\n",
      "INFO:tensorflow:global_step/sec: 362.061\n",
      "INFO:tensorflow:loss = 0.109833, step = 401 (0.259 sec)\n",
      "INFO:tensorflow:global_step/sec: 438.284\n",
      "INFO:tensorflow:loss = 0.0927747, step = 501 (0.231 sec)\n",
      "INFO:tensorflow:global_step/sec: 474.721\n",
      "INFO:tensorflow:loss = 0.0524095, step = 601 (0.211 sec)\n",
      "INFO:tensorflow:global_step/sec: 474.72\n",
      "INFO:tensorflow:loss = 0.0614727, step = 701 (0.218 sec)\n",
      "INFO:tensorflow:global_step/sec: 454.222\n",
      "INFO:tensorflow:loss = 0.0507722, step = 801 (0.214 sec)\n",
      "INFO:tensorflow:global_step/sec: 210.82\n",
      "INFO:tensorflow:loss = 0.109786, step = 901 (0.475 sec)\n",
      "INFO:tensorflow:global_step/sec: 280.302\n",
      "INFO:tensorflow:loss = 0.0394539, step = 1001 (0.359 sec)\n",
      "INFO:tensorflow:global_step/sec: 346.378\n",
      "INFO:tensorflow:loss = 0.0335162, step = 1101 (0.284 sec)\n",
      "INFO:tensorflow:global_step/sec: 300.08\n",
      "INFO:tensorflow:loss = 0.0549407, step = 1201 (0.333 sec)\n",
      "INFO:tensorflow:global_step/sec: 441.187\n",
      "INFO:tensorflow:loss = 0.0131549, step = 1301 (0.226 sec)\n",
      "INFO:tensorflow:global_step/sec: 310.82\n",
      "INFO:tensorflow:loss = 0.0878899, step = 1401 (0.323 sec)\n",
      "INFO:tensorflow:global_step/sec: 417.24\n",
      "INFO:tensorflow:loss = 0.0606294, step = 1501 (0.239 sec)\n",
      "INFO:tensorflow:global_step/sec: 481.583\n",
      "INFO:tensorflow:loss = 0.0451549, step = 1601 (0.216 sec)\n",
      "INFO:tensorflow:global_step/sec: 437.328\n",
      "INFO:tensorflow:loss = 0.0734347, step = 1701 (0.220 sec)\n",
      "INFO:tensorflow:global_step/sec: 337.028\n",
      "INFO:tensorflow:loss = 0.0419044, step = 1801 (0.301 sec)\n",
      "INFO:tensorflow:global_step/sec: 321.831\n",
      "INFO:tensorflow:loss = 0.0678202, step = 1901 (0.307 sec)\n",
      "INFO:tensorflow:Saving checkpoints for 2000 into /tem/iris_model\\model.ckpt.\n",
      "INFO:tensorflow:Loss for final step: 0.0992274.\n"
     ]
    },
    {
     "data": {
      "text/plain": [
       "DNNClassifier(params={'head': <tensorflow.contrib.learn.python.learn.estimators.head._MultiClassHead object at 0x0000013E266B7828>, 'hidden_units': [10, 10, 10], 'feature_columns': (_NumericColumn(key='x', shape=(4,), default_value=None, dtype=tf.float32, normalizer_fn=None),), 'optimizer': None, 'activation_fn': <function relu at 0x0000013E2025AEA0>, 'dropout': None, 'gradient_clip_norm': None, 'embedding_lr_multipliers': None, 'input_layer_min_slice_size': None})"
      ]
     },
     "execution_count": 39,
     "metadata": {},
     "output_type": "execute_result"
    }
   ],
   "source": [
    "# Train model.\n",
    "classifier.fit(input_fn=train_input_fn, steps=2000)"
   ]
  },
  {
   "cell_type": "code",
   "execution_count": 42,
   "metadata": {
    "collapsed": true
   },
   "outputs": [],
   "source": [
    "test_input_fn = tf.estimator.inputs.numpy_input_fn(\n",
    "    x = {'x':np.array(test_set.data)},\n",
    "    y = np.array(test_set.target),\n",
    "    num_epochs = 1,\n",
    "    shuffle = False\n",
    ")"
   ]
  },
  {
   "cell_type": "code",
   "execution_count": 43,
   "metadata": {},
   "outputs": [
    {
     "name": "stdout",
     "output_type": "stream",
     "text": [
      "WARNING:tensorflow:From E:\\Users\\LuMing\\Anaconda3\\lib\\site-packages\\tensorflow\\contrib\\learn\\python\\learn\\estimators\\head.py:625: scalar_summary (from tensorflow.python.ops.logging_ops) is deprecated and will be removed after 2016-11-30.\n",
      "Instructions for updating:\n",
      "Please switch to tf.summary.scalar. Note that tf.summary.scalar uses the node name instead of the tag. This means that TensorFlow will automatically de-duplicate summary names based on the scope they are created in. Also, passing a tensor or list of tags to a scalar summary op is no longer supported.\n",
      "INFO:tensorflow:Starting evaluation at 2017-09-22-05:38:50\n",
      "INFO:tensorflow:Restoring parameters from /tem/iris_model\\model.ckpt-2000\n",
      "INFO:tensorflow:Finished evaluation at 2017-09-22-05:38:51\n",
      "INFO:tensorflow:Saving dict for global step 2000: accuracy = 0.991667, global_step = 2000, loss = 0.050876\n"
     ]
    }
   ],
   "source": [
    "accuracy_score = classifier.evaluate(input_fn=test_input_fn)[\"accuracy\"]"
   ]
  },
  {
   "cell_type": "code",
   "execution_count": 44,
   "metadata": {},
   "outputs": [
    {
     "name": "stdout",
     "output_type": "stream",
     "text": [
      "\n",
      "Test Accuracy: 0.991667\n",
      "\n"
     ]
    }
   ],
   "source": [
    "print(\"\\nTest Accuracy: {0:f}\\n\".format(accuracy_score))"
   ]
  },
  {
   "cell_type": "code",
   "execution_count": 45,
   "metadata": {
    "collapsed": true
   },
   "outputs": [],
   "source": [
    "new_samples = np.array(\n",
    "    [[6.4,3.2,4.5,1.5],\n",
    "    [5.8,3.1,5.0,1.7]],dtype = np.float32)\n",
    "predict_input_fn = tf.estimator.inputs.numpy_input_fn(\n",
    "    x={'x':new_samples},\n",
    "    num_epochs = 1,\n",
    "    shuffle = False\n",
    ")"
   ]
  },
  {
   "cell_type": "code",
   "execution_count": 47,
   "metadata": {},
   "outputs": [
    {
     "name": "stdout",
     "output_type": "stream",
     "text": [
      "WARNING:tensorflow:From E:\\Users\\LuMing\\Anaconda3\\lib\\site-packages\\tensorflow\\python\\util\\deprecation.py:347: calling DNNClassifier.predict (from tensorflow.contrib.learn.python.learn.estimators.dnn) with outputs=None is deprecated and will be removed after 2017-03-01.\n",
      "Instructions for updating:\n",
      "Please switch to predict_classes, or set `outputs` argument.\n",
      "INFO:tensorflow:Restoring parameters from /tem/iris_model\\model.ckpt-2000\n"
     ]
    }
   ],
   "source": [
    "predictions = list(classifier.predict(input_fn=predict_input_fn))"
   ]
  },
  {
   "cell_type": "code",
   "execution_count": 50,
   "metadata": {},
   "outputs": [
    {
     "data": {
      "text/plain": [
       "[1, 2]"
      ]
     },
     "execution_count": 50,
     "metadata": {},
     "output_type": "execute_result"
    }
   ],
   "source": [
    "predictions"
   ]
  },
  {
   "cell_type": "code",
   "execution_count": 13,
   "metadata": {},
   "outputs": [
    {
     "data": {
      "text/plain": [
       "numpy.int32"
      ]
     },
     "execution_count": 13,
     "metadata": {},
     "output_type": "execute_result"
    }
   ],
   "source": [
    "type(training_set.target[0])"
   ]
  }
 ],
 "metadata": {
  "kernelspec": {
   "display_name": "Python 3",
   "language": "python",
   "name": "python3"
  },
  "language_info": {
   "codemirror_mode": {
    "name": "ipython",
    "version": 3
   },
   "file_extension": ".py",
   "mimetype": "text/x-python",
   "name": "python",
   "nbconvert_exporter": "python",
   "pygments_lexer": "ipython3",
   "version": "3.6.1"
  }
 },
 "nbformat": 4,
 "nbformat_minor": 2
}
