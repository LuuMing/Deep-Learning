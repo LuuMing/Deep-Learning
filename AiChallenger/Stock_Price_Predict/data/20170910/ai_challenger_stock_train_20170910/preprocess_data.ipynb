{
 "cells": [
  {
   "cell_type": "code",
   "execution_count": 1,
   "metadata": {
    "collapsed": true
   },
   "outputs": [],
   "source": [
    "import pandas as pd\n",
    "import numpy as np\n",
    "from sklearn import preprocessing"
   ]
  },
  {
   "cell_type": "code",
   "execution_count": 2,
   "metadata": {
    "collapsed": true
   },
   "outputs": [],
   "source": [
    "data = pd.read_csv('stock_train_data_20170910.csv')\n",
    "weight_scaled = preprocessing.minmax_scale(list(data['weight']))\n",
    "data['weight'] = weight_scaled\n",
    "#normalize weight Colum"
   ]
  },
  {
   "cell_type": "code",
   "execution_count": 3,
   "metadata": {
    "collapsed": true
   },
   "outputs": [],
   "source": [
    "Dummy_label = []\n",
    "for i in range(data['group'].min(),data['group'].max()+1) :\n",
    "    Dummy_label.append ('dummy_group_'+str(i))\n",
    "Dummy_Variable = pd.DataFrame(np.zeros((len(data),len(Dummy_label)),dtype='int32'),columns=Dummy_label)\n",
    "for i,group in enumerate(data['group']):\n",
    "    Dummy_Variable['dummy_group_'+str(group)][i] =1\n",
    "data = pd.concat([data, Dummy_Variable], axis=1)\n",
    "#group into Dummy variable"
   ]
  },
  {
   "cell_type": "code",
   "execution_count": 4,
   "metadata": {
    "collapsed": true
   },
   "outputs": [],
   "source": [
    "key = []\n",
    "for i in range(0,88):\n",
    "    key.append('feature'+str(i))\n",
    "for i in range(1,29):\n",
    "    key.append('dummy_group_'+str(i))\n"
   ]
  },
  {
   "cell_type": "code",
   "execution_count": 13,
   "metadata": {},
   "outputs": [],
   "source": [
    "features = np.array(data[key])"
   ]
  },
  {
   "cell_type": "code",
   "execution_count": 36,
   "metadata": {},
   "outputs": [],
   "source": [
    "weight = np.array(data['weight'])\n",
    "weight = np.reshape(weight,[len(weight),1])"
   ]
  },
  {
   "cell_type": "code",
   "execution_count": 45,
   "metadata": {},
   "outputs": [],
   "source": [
    "features = (features*weight)"
   ]
  },
  {
   "cell_type": "code",
   "execution_count": 53,
   "metadata": {},
   "outputs": [],
   "source": [
    "target = np.array(data['label'],dtype = int)"
   ]
  },
  {
   "cell_type": "code",
   "execution_count": 66,
   "metadata": {
    "collapsed": true
   },
   "outputs": [],
   "source": [
    "np.save('target',target)\n",
    "np.save('features',features)"
   ]
  }
 ],
 "metadata": {
  "kernelspec": {
   "display_name": "Python 3",
   "language": "python",
   "name": "python3"
  },
  "language_info": {
   "codemirror_mode": {
    "name": "ipython",
    "version": 3
   },
   "file_extension": ".py",
   "mimetype": "text/x-python",
   "name": "python",
   "nbconvert_exporter": "python",
   "pygments_lexer": "ipython3",
   "version": "3.6.1"
  }
 },
 "nbformat": 4,
 "nbformat_minor": 2
}
