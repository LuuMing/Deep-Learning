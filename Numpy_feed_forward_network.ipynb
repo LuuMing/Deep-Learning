{
 "cells": [
  {
   "cell_type": "code",
   "execution_count": 1,
   "metadata": {
    "collapsed": true
   },
   "outputs": [],
   "source": [
    "import numpy as np"
   ]
  },
  {
   "cell_type": "code",
   "execution_count": 23,
   "metadata": {},
   "outputs": [],
   "source": [
    "x = np.array([\n",
    "    [0,0,1],\n",
    "    [0,1,1],\n",
    "    [1,0,1],\n",
    "    [1,1,1]\n",
    "])"
   ]
  },
  {
   "cell_type": "code",
   "execution_count": 24,
   "metadata": {},
   "outputs": [],
   "source": [
    "y = np.array([\n",
    "    [0],\n",
    "    [1],\n",
    "    [1],\n",
    "    [0]\n",
    "])"
   ]
  },
  {
   "cell_type": "code",
   "execution_count": 25,
   "metadata": {},
   "outputs": [
    {
     "name": "stdout",
     "output_type": "stream",
     "text": [
      "[[0 0 1]\n",
      " [0 1 1]\n",
      " [1 0 1]\n",
      " [1 1 1]]\n",
      "[[0]\n",
      " [1]\n",
      " [1]\n",
      " [0]]\n"
     ]
    }
   ],
   "source": [
    "print(x)\n",
    "print(y)"
   ]
  },
  {
   "cell_type": "code",
   "execution_count": 34,
   "metadata": {
    "collapsed": true
   },
   "outputs": [],
   "source": [
    "num_epochs = 10000000\n",
    "syn0 = 2*np.random.random([3,4])-1\n",
    "syn1 = 2*np.random.random([4,1])-1"
   ]
  },
  {
   "cell_type": "code",
   "execution_count": 32,
   "metadata": {},
   "outputs": [
    {
     "name": "stdout",
     "output_type": "stream",
     "text": [
      "[[-0.20134651 -0.28831442 -0.28749706 -0.56105084]\n",
      " [-0.42925051 -0.6140813  -0.30248887  0.94933731]\n",
      " [ 0.5542272   0.10702402 -0.99475673 -0.73671454]]\n",
      "[[-0.47972939]\n",
      " [ 0.04271612]\n",
      " [ 0.50452716]\n",
      " [ 0.82619037]]\n"
     ]
    }
   ],
   "source": [
    "print(syn0)\n",
    "print(syn1)"
   ]
  },
  {
   "cell_type": "code",
   "execution_count": 28,
   "metadata": {
    "collapsed": true
   },
   "outputs": [],
   "source": [
    "def nonlin(x, deriv = False):  \n",
    "    if(deriv == True):  \n",
    "        return x*(1-x)  \n",
    "    return 1/(1+np.exp(-x))  \n",
    "  "
   ]
  },
  {
   "cell_type": "code",
   "execution_count": 21,
   "metadata": {},
   "outputs": [
    {
     "data": {
      "text/plain": [
       "array([[ 0.57538828],\n",
       "       [ 0.55543033],\n",
       "       [ 0.55346601]])"
      ]
     },
     "execution_count": 21,
     "metadata": {},
     "output_type": "execute_result"
    }
   ],
   "source": [
    "l2"
   ]
  },
  {
   "cell_type": "code",
   "execution_count": null,
   "metadata": {},
   "outputs": [
    {
     "name": "stdout",
     "output_type": "stream",
     "text": [
      "error:0.503865387156\n",
      "error:0.0089079466183\n",
      "error:0.00600989779113\n",
      "error:0.0048109592744\n",
      "error:0.00411777067383\n",
      "error:0.00365339582626\n",
      "error:0.00331497993871\n",
      "error:0.00305447898194\n",
      "error:0.00284607889293\n",
      "error:0.00267452157052\n",
      "error:0.00253013913215\n",
      "error:0.00240647212586\n",
      "error:0.00229902026366\n",
      "error:0.00220454004993\n",
      "error:0.00212062729919\n",
      "error:0.00204545740292\n",
      "error:0.00197761745463\n",
      "error:0.00191599417408\n",
      "error:0.00185969696972\n",
      "error:0.00180800382749\n",
      "error:0.00176032243559\n",
      "error:0.00171616172447\n",
      "error:0.00167511067912\n",
      "error:0.00163682232602\n",
      "error:0.00160100146543\n",
      "error:0.00156739515646\n",
      "error:0.00153578525397\n",
      "error:0.00150598249425\n",
      "error:0.00147782176381\n",
      "error:0.00145115828136\n",
      "error:0.00142586449196\n",
      "error:0.00140182752161\n",
      "error:0.00137894707649\n",
      "error:0.00135713369803\n",
      "error:0.00133630730473\n",
      "error:0.0013163959667\n",
      "error:0.00129733487019\n",
      "error:0.00127906543842\n",
      "error:0.00126153458147\n",
      "error:0.00124469405352\n",
      "error:0.00122849989965\n",
      "error:0.00121291197794\n",
      "error:0.00119789354497\n",
      "error:0.00118341089506\n",
      "error:0.00116943304523\n",
      "error:0.00115593145909\n",
      "error:0.00114287980427\n",
      "error:0.00113025373848\n",
      "error:0.00111803072051\n",
      "error:0.00110618984257\n",
      "error:0.00109471168146\n",
      "error:0.00108357816579\n",
      "error:0.00107277245761\n",
      "error:0.00106227884629\n",
      "error:0.00105208265346\n",
      "error:0.00104217014749\n",
      "error:0.00103252846651\n",
      "error:0.0010231455489\n",
      "error:0.00101401007049\n",
      "error:0.00100511138762\n",
      "error:0.000996439485535\n",
      "error:0.000987984931442\n",
      "error:0.000979738831797\n",
      "error:0.000971692793346\n",
      "error:0.000963838887558\n",
      "error:0.000956169618092\n",
      "error:0.000948677891009\n",
      "error:0.000941356987447\n",
      "error:0.000934200538534\n",
      "error:0.000927202502318\n",
      "error:0.000920357142525\n",
      "error:0.000913659008984\n",
      "error:0.000907102919555\n",
      "error:0.000900683943439\n",
      "error:0.000894397385735\n",
      "error:0.00088823877314\n",
      "error:0.000882203840697\n",
      "error:0.000876288519495\n",
      "error:0.000870488925247\n",
      "error:0.000864801347669\n",
      "error:0.000859222240593\n",
      "error:0.000853748212766\n",
      "error:0.00084837601926\n",
      "error:0.000843102553465\n",
      "error:0.000837924839609\n",
      "error:0.000832840025763\n",
      "error:0.0008278453773\n",
      "error:0.000822938270772\n",
      "error:0.00081811618817\n",
      "error:0.000813376711545\n",
      "error:0.000808717517956\n",
      "error:0.000804136374732\n",
      "error:0.000799631135014\n",
      "error:0.000795199733565\n",
      "error:0.000790840182828\n",
      "error:0.000786550569216\n",
      "error:0.000782329049608\n",
      "error:0.000778173848055\n",
      "error:0.000774083252669\n",
      "error:0.000770055612683\n",
      "error:0.000766089335676\n",
      "error:0.000762182884954\n",
      "error:0.000758334777069\n",
      "error:0.000754543579471\n",
      "error:0.000750807908289\n",
      "error:0.000747126426225\n",
      "error:0.000743497840562\n",
      "error:0.000739920901272\n",
      "error:0.000736394399224\n",
      "error:0.000732917164478\n",
      "error:0.000729488064673\n",
      "error:0.000726106003487\n",
      "error:0.000722769919179\n",
      "error:0.0007194787832\n",
      "error:0.000716231598874\n",
      "error:0.000713027400136\n",
      "error:0.000709865250341\n",
      "error:0.000706744241117\n",
      "error:0.000703663491284\n",
      "error:0.000700622145814\n",
      "error:0.000697619374842\n",
      "error:0.000694654372725\n",
      "error:0.000691726357142\n",
      "error:0.00068883456823\n",
      "error:0.000685978267767\n",
      "error:0.000683156738385\n",
      "error:0.000680369282817\n",
      "error:0.000677615223187\n",
      "error:0.000674893900311\n",
      "error:0.000672204673053\n",
      "error:0.000669546917685\n",
      "error:0.00066692002729\n",
      "error:0.000664323411184\n",
      "error:0.000661756494359\n",
      "error:0.00065921871696\n",
      "error:0.000656709533766\n",
      "error:0.000654228413711\n",
      "error:0.000651774839413\n",
      "error:0.00064934830672\n",
      "error:0.000646948324286\n",
      "error:0.00064457441315\n",
      "error:0.000642226106341\n",
      "error:0.000639902948495\n",
      "error:0.000637604495487\n",
      "error:0.000635330314075\n",
      "error:0.000633079981563\n",
      "error:0.000630853085472\n",
      "error:0.000628649223227\n",
      "error:0.000626468001848\n",
      "error:0.000624309037665\n",
      "error:0.000622171956034\n",
      "error:0.000620056391064\n",
      "error:0.000617961985359\n",
      "error:0.000615888389765\n",
      "error:0.000613835263127\n",
      "error:0.000611802272058\n",
      "error:0.000609789090708\n",
      "error:0.000607795400553\n",
      "error:0.00060582089018\n",
      "error:0.000603865255084\n",
      "error:0.000601928197477\n",
      "error:0.000600009426096\n",
      "error:0.000598108656018\n",
      "error:0.000596225608491\n",
      "error:0.000594360010754\n",
      "error:0.000592511595881\n",
      "error:0.000590680102616\n",
      "error:0.000588865275223\n",
      "error:0.000587066863335\n",
      "error:0.000585284621811\n",
      "error:0.000583518310594\n",
      "error:0.000581767694581\n",
      "error:0.00058003254349\n",
      "error:0.000578312631733\n",
      "error:0.000576607738295\n",
      "error:0.000574917646616\n",
      "error:0.000573242144473\n",
      "error:0.000571581023876\n"
     ]
    }
   ],
   "source": [
    "for j in range(num_epochs):\n",
    "    #feed forward through layers 0 ,1 and 2\n",
    "    l0 = x\n",
    "    l1 = nonlin(np.dot(l0,syn0))\n",
    "    l2 = nonlin(np.dot(l1,syn1))\n",
    "    #how much did we miss the target value?\n",
    "    l2_error = y -l2\n",
    "    if(j%10000) == 0:\n",
    "        print('error:'+str(np.mean(np.abs(l2_error))))\n",
    "    #in what direction is the target value?\n",
    "    l2_delta = l2_error * nonlin(l2,deriv=True)\n",
    "    #how much did each l1 value conrubute to l2 error?\n",
    "    l1_error = l2_delta.dot(syn1.T)\n",
    "    l1_delta = l1_error * nonlin(l1,deriv=True)\n",
    "    syn1 += l1.T.dot(l2_delta)\n",
    "    syn0 += l0.T.dot(l1_delta)\n",
    "print(syn0)\n",
    "print(syn1)"
   ]
  },
  {
   "cell_type": "code",
   "execution_count": 33,
   "metadata": {},
   "outputs": [
    {
     "name": "stdout",
     "output_type": "stream",
     "text": [
      "error:0.498927238003\n",
      "error:0.00960797542262\n",
      "error:0.00662578350428\n",
      "error:0.00535203253622\n",
      "error:0.00460540902427\n",
      "error:0.00410112344145\n",
      "[[-5.0255041  -0.36580453  4.62287014 -6.80181655]\n",
      " [ 5.17024083 -0.26529231 -4.7229372   6.77318806]\n",
      " [ 2.85278198  0.1989948  -2.68227476 -3.51937946]]\n",
      "[[ -6.95762916]\n",
      " [  0.44628499]\n",
      " [  7.08701836]\n",
      " [ 12.68599811]]\n"
     ]
    }
   ],
   "source": [
    "for j in range(num_epochs):\n",
    "    #feed forward through layers 0 ,1 and 2\n",
    "    l0 = x\n",
    "    l1 = nonlin(np.dot(l0,syn0))\n",
    "    l2 = nonlin(np.dot(l1,syn1))\n",
    "    #how much did we miss the target value?\n",
    "    l2_error = y -l2\n",
    "    if(j%10000) == 0:\n",
    "        print('error:'+str(np.mean(np.abs(l2_error))))\n",
    "    #in what direction is the target value?\n",
    "    l2_delta = l2_error * nonlin(l2,deriv=True)\n",
    "    #how much did each l1 value conrubute to l2 error?\n",
    "    l1_error = l2_delta.dot(syn1.T)\n",
    "    l1_delta = l1_error * nonlin(l1,deriv=True)\n",
    "    syn1 += l1.T.dot(l2_delta)\n",
    "    syn0 += l0.T.dot(l1_delta)\n",
    "print(syn0)\n",
    "print(syn1)"
   ]
  }
 ],
 "metadata": {
  "kernelspec": {
   "display_name": "Python 3",
   "language": "python",
   "name": "python3"
  },
  "language_info": {
   "codemirror_mode": {
    "name": "ipython",
    "version": 3
   },
   "file_extension": ".py",
   "mimetype": "text/x-python",
   "name": "python",
   "nbconvert_exporter": "python",
   "pygments_lexer": "ipython3",
   "version": "3.6.1"
  }
 },
 "nbformat": 4,
 "nbformat_minor": 2
}
